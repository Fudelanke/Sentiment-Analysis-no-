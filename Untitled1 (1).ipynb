{
  "nbformat": 4,
  "nbformat_minor": 0,
  "metadata": {
    "colab": {
      "provenance": [],
      "gpuType": "T4"
    },
    "kernelspec": {
      "name": "python3",
      "display_name": "Python 3"
    },
    "language_info": {
      "name": "python"
    },
    "accelerator": "GPU"
  },
  "cells": [
    {
      "cell_type": "markdown",
      "source": [
        "# 新增區段"
      ],
      "metadata": {
        "id": "VuO_9rveb0ne"
      }
    },
    {
      "cell_type": "code",
      "execution_count": 10,
      "metadata": {
        "id": "sna87FdpbiWu"
      },
      "outputs": [],
      "source": [
        "import re\n",
        "import pandas as pd\n",
        "import torch\n",
        "import seaborn as sns\n",
        "from torch.utils.data import Dataset, DataLoader\n",
        "from transformers import AutoTokenizer, AutoModelForSequenceClassification, get_linear_schedule_with_warmup\n",
        "from sklearn.model_selection import train_test_split\n",
        "from sklearn.metrics import (\n",
        "    accuracy_score,\n",
        "    precision_score,\n",
        "    recall_score,\n",
        "    f1_score,\n",
        "    confusion_matrix\n",
        ")\n",
        "import matplotlib.pyplot as plt"
      ]
    },
    {
      "cell_type": "code",
      "source": [
        "url = 'https://raw.githubusercontent.com/usmaann/COVIDSenti/main/COVIDSenti.csv'\n",
        "url_A = 'https://raw.githubusercontent.com/usmaann/COVIDSenti/main/COVIDSenti-A.csv'\n",
        "url_B = 'https://raw.githubusercontent.com/usmaann/COVIDSenti/main/COVIDSenti-B.csv'\n",
        "url_C = 'https://raw.githubusercontent.com/usmaann/COVIDSenti/main/COVIDSenti-C.csv'"
      ],
      "metadata": {
        "id": "jOVJn-52cRqR"
      },
      "execution_count": 11,
      "outputs": []
    },
    {
      "cell_type": "code",
      "source": [
        "df = pd.read_csv(url)\n",
        "df_A = pd.read_csv(url_A)\n",
        "df_B = pd.read_csv(url_B)\n",
        "df_C = pd.read_csv(url_C)"
      ],
      "metadata": {
        "id": "I-ZPMR-6czYm"
      },
      "execution_count": 12,
      "outputs": []
    },
    {
      "cell_type": "code",
      "source": [
        "valid_labels = ['pos', 'neu', 'neg']\n",
        "df = df[df['label'].isin(valid_labels)].reset_index(drop=True)"
      ],
      "metadata": {
        "id": "O7scgsSBc3us"
      },
      "execution_count": 13,
      "outputs": []
    },
    {
      "cell_type": "code",
      "source": [
        "def clean_text(text):\n",
        "    text = text.lower()\n",
        "    text = re.sub(r'http\\S+', '', text)       # remove URL\n",
        "    text = re.sub(r'@\\w+', '', text)          # remove @mention\n",
        "    text = re.sub(r'#\\w+', '', text)          # remove hashtag\n",
        "    text = re.sub(r'&\\w+;', '', text)         # remove HTML 实体\n",
        "    text = re.sub(r'[^a-zA-Z0-9\\s]', '', text)# 去特殊字符\n",
        "    return re.sub(r'\\s+', ' ', text).strip()  # 合并多余空格\n",
        "\n",
        "df[\"clean_tweet\"] = df[\"tweet\"].astype(str).apply(clean_text)\n",
        "label_map = {\"pos\":0, \"neu\":1, \"neg\":2}\n",
        "df[\"label_id\"] = df[\"label\"].map(label_map)\n",
        "\n",
        "# 分层拆分：80% 训练，10% 验证，10% 测试\n",
        "train_df, temp_df = train_test_split(df, test_size=0.2, stratify=df[\"label_id\"], random_state=42)\n",
        "val_df,   test_df = train_test_split(temp_df, test_size=0.5, stratify=temp_df[\"label_id\"], random_state=42)"
      ],
      "metadata": {
        "id": "K8-oA3PadADN"
      },
      "execution_count": 14,
      "outputs": []
    },
    {
      "cell_type": "code",
      "source": [
        "model_name = \"digitalepidemiologylab/covid-twitter-bert-v2\"\n",
        "tokenizer  = AutoTokenizer.from_pretrained(model_name)\n",
        "\n",
        "class TweetDataset(Dataset):\n",
        "    def __init__(self, df, tokenizer, max_len=128):\n",
        "        self.texts = df[\"clean_tweet\"].tolist()\n",
        "        self.labels= df[\"label_id\"].tolist()\n",
        "        self.tokenizer = tokenizer\n",
        "        self.max_len = max_len\n",
        "\n",
        "    def __len__(self):\n",
        "        return len(self.texts)\n",
        "\n",
        "    def __getitem__(self, idx):\n",
        "        enc = self.tokenizer(\n",
        "            self.texts[idx],\n",
        "            truncation=True,\n",
        "            padding=\"max_length\",\n",
        "            max_length=self.max_len,\n",
        "            return_tensors=\"pt\"\n",
        "        )\n",
        "        return {\n",
        "            \"input_ids\":      enc[\"input_ids\"].squeeze(0),\n",
        "            \"attention_mask\": enc[\"attention_mask\"].squeeze(0),\n",
        "            \"labels\":         torch.tensor(self.labels[idx], dtype=torch.long)\n",
        "        }\n",
        "\n",
        "train_ds = TweetDataset(train_df, tokenizer)\n",
        "val_ds   = TweetDataset(val_df,   tokenizer)\n",
        "test_ds  = TweetDataset(test_df,  tokenizer)\n",
        "\n",
        "train_loader = DataLoader(train_ds, batch_size=16, shuffle=True,  num_workers=2)\n",
        "val_loader   = DataLoader(val_ds,   batch_size=16, shuffle=False, num_workers=2)\n",
        "test_loader  = DataLoader(test_ds,  batch_size=16, shuffle=False, num_workers=2)"
      ],
      "metadata": {
        "id": "Z0Ub0viodLM3"
      },
      "execution_count": 15,
      "outputs": []
    },
    {
      "cell_type": "code",
      "source": [
        "device = torch.device(\"cuda\")\n",
        "model  = AutoModelForSequenceClassification.from_pretrained(\n",
        "    'bert-base-uncased', num_labels=3\n",
        ").to(device)\n",
        "\n",
        "optimizer = torch.optim.Adam(model.parameters(), lr=2e-5)\n",
        "scheduler = torch.optim.lr_scheduler.StepLR(optimizer, step_size=1, gamma=0.5)"
      ],
      "metadata": {
        "colab": {
          "base_uri": "https://localhost:8080/"
        },
        "id": "TCAteMU2dUfq",
        "outputId": "f9e12cc8-e055-4e29-cc5a-7a20b0dd0b28"
      },
      "execution_count": 16,
      "outputs": [
        {
          "output_type": "stream",
          "name": "stderr",
          "text": [
            "Some weights of BertForSequenceClassification were not initialized from the model checkpoint at bert-base-uncased and are newly initialized: ['classifier.bias', 'classifier.weight']\n",
            "You should probably TRAIN this model on a down-stream task to be able to use it for predictions and inference.\n"
          ]
        }
      ]
    },
    {
      "cell_type": "code",
      "source": [
        "epochs = 3\n",
        "train_losses, val_losses, train_f1s, val_f1s = [], [], [], []\n",
        "\n",
        "for epoch in range(1, epochs+1):\n",
        "    # 训练\n",
        "    model.train()\n",
        "    total_loss, all_preds, all_labels = 0, [], []\n",
        "    for batch in train_loader:\n",
        "        optimizer.zero_grad()\n",
        "        input_ids      = batch['input_ids'].to(device)\n",
        "        attention_mask = batch['attention_mask'].to(device)\n",
        "        labels         = batch['labels'].to(device)\n",
        "\n",
        "        outputs = model(input_ids,\n",
        "                        attention_mask=attention_mask,\n",
        "                        labels=labels)\n",
        "        loss, logits = outputs.loss, outputs.logits\n",
        "        loss.backward()\n",
        "        optimizer.step()\n",
        "        total_loss += loss.item()\n",
        "\n",
        "        preds = torch.argmax(logits, dim=1).cpu().numpy()\n",
        "        all_preds.extend(preds)\n",
        "        all_labels.extend(labels.cpu().numpy())\n",
        "\n",
        "    avg_train_loss = total_loss / len(train_loader)\n",
        "    train_f1       = f1_score(all_labels, all_preds, average='macro')\n",
        "    train_losses.append(avg_train_loss)\n",
        "    train_f1s.append(train_f1)\n",
        "    scheduler.step()\n",
        "    model.eval()\n",
        "    total_loss = 0.0\n",
        "    all_preds, all_labels = [], []\n",
        "\n",
        "# 2. 在测试集上遍历\n",
        "    with torch.no_grad():\n",
        "      for batch in test_loader:\n",
        "        input_ids      = batch['input_ids'].to(device)\n",
        "        attention_mask = batch['attention_mask'].to(device)\n",
        "        labels         = batch['labels'].to(device)\n",
        "\n",
        "        outputs = model(\n",
        "          input_ids,\n",
        "          attention_mask=attention_mask,\n",
        "          labels=labels\n",
        "        )\n",
        "        loss, logits = outputs.loss, outputs.logits\n",
        "\n",
        "        total_loss += loss.item()\n",
        "        preds = torch.argmax(logits, dim=1).cpu().numpy()\n",
        "        all_preds.extend(preds)\n",
        "        all_labels.extend(labels.cpu().numpy())\n",
        "\n",
        "# 3. 计算各项指标\n",
        "avg_test_loss    = total_loss / len(test_loader)\n",
        "accuracy         = accuracy_score(all_labels, all_preds)\n",
        "precision_macro  = precision_score(all_labels, all_preds, average='macro')\n",
        "recall_macro     = recall_score(all_labels, all_preds, average='macro')\n",
        "f1_weighted      = f1_score(all_labels, all_preds, average='weighted')\n",
        "cm               = confusion_matrix(all_labels, all_preds)\n",
        "\n",
        "# 4. 打印结果\n",
        "print(f\"Test  Loss:           {avg_test_loss:.4f}\")\n",
        "print(f\"Accuracy:             {accuracy:.4f}\")\n",
        "print(f\"Precision (macro):    {precision_macro:.4f}\")\n",
        "print(f\"Recall (macro):       {recall_macro:.4f}\")\n",
        "print(f\"F1 Score (weighted):  {f1_weighted:.4f}\\n\")\n",
        "print(\"Confusion Matrix:\")\n",
        "print(cm)\n",
        "sns.heatmap(cm, annot=True, fmt='d',\n",
        "            xticklabels=['pos','neu','neg'],\n",
        "            yticklabels=['pos','neu','neg'])\n",
        "plt.xlabel('Predicted')\n",
        "plt.ylabel('True')\n",
        "plt.show()\n",
        "\n"
      ],
      "metadata": {
        "colab": {
          "base_uri": "https://localhost:8080/",
          "height": 781
        },
        "id": "X-4B6tG0erNF",
        "outputId": "0389c9b7-d376-4d55-8fbb-ac4f55dc3a8f"
      },
      "execution_count": 17,
      "outputs": [
        {
          "output_type": "stream",
          "name": "stderr",
          "text": [
            "/usr/local/lib/python3.11/dist-packages/torch/nn/modules/module.py:1750: FutureWarning: `encoder_attention_mask` is deprecated and will be removed in version 4.55.0 for `BertSdpaSelfAttention.forward`.\n",
            "  return forward_call(*args, **kwargs)\n",
            "/usr/local/lib/python3.11/dist-packages/torch/nn/modules/module.py:1750: FutureWarning: `encoder_attention_mask` is deprecated and will be removed in version 4.55.0 for `BertSdpaSelfAttention.forward`.\n",
            "  return forward_call(*args, **kwargs)\n",
            "/usr/local/lib/python3.11/dist-packages/torch/nn/modules/module.py:1750: FutureWarning: `encoder_attention_mask` is deprecated and will be removed in version 4.55.0 for `BertSdpaSelfAttention.forward`.\n",
            "  return forward_call(*args, **kwargs)\n",
            "/usr/local/lib/python3.11/dist-packages/torch/nn/modules/module.py:1750: FutureWarning: `encoder_attention_mask` is deprecated and will be removed in version 4.55.0 for `BertSdpaSelfAttention.forward`.\n",
            "  return forward_call(*args, **kwargs)\n"
          ]
        },
        {
          "output_type": "stream",
          "name": "stdout",
          "text": [
            "Test  Loss:           0.1009\n",
            "Accuracy:             0.9741\n",
            "Precision (macro):    0.9501\n",
            "Recall (macro):       0.9636\n",
            "F1 Score (weighted):  0.9742\n",
            "\n",
            "Confusion Matrix:\n",
            "[[ 595   33    0]\n",
            " [  51 6597   91]\n",
            " [   2   56 1575]]\n"
          ]
        },
        {
          "output_type": "display_data",
          "data": {
            "text/plain": [
              "<Figure size 640x480 with 2 Axes>"
            ],
            "image/png": "[encoded data removed]"
          },
          "metadata": {}
        }
      ]
    }
  ]
}